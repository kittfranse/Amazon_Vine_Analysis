{
  "nbformat": 4,
  "nbformat_minor": 0,
  "metadata": {
    "colab": {
      "name": "Vine_Review_Analysis.ipynb",
      "provenance": [],
      "collapsed_sections": []
    },
    "kernelspec": {
      "name": "python3",
      "display_name": "Python 3"
    },
    "language_info": {
      "name": "python"
    }
  },
  "cells": [
    {
      "cell_type": "code",
      "execution_count": 1,
      "metadata": {
        "id": "mnBIGkWly_-u",
        "colab": {
          "base_uri": "https://localhost:8080/"
        },
        "outputId": "2255dd3e-a046-464a-c50b-15c44c8eb10a"
      },
      "outputs": [
        {
          "output_type": "stream",
          "name": "stdout",
          "text": [
            "\r0% [Working]\r            \rGet:1 https://cloud.r-project.org/bin/linux/ubuntu bionic-cran40/ InRelease [3,626 B]\n",
            "\r0% [Connecting to archive.ubuntu.com (91.189.88.152)] [Connecting to security.u\r0% [Connecting to archive.ubuntu.com (91.189.88.152)] [Connecting to security.u\r0% [1 InRelease gpgv 3,626 B] [Waiting for headers] [Connecting to security.ubu\r                                                                               \rIgn:2 https://developer.download.nvidia.com/compute/cuda/repos/ubuntu1804/x86_64  InRelease\n",
            "Get:3 http://security.ubuntu.com/ubuntu bionic-security InRelease [88.7 kB]\n",
            "Get:4 http://ppa.launchpad.net/c2d4u.team/c2d4u4.0+/ubuntu bionic InRelease [15.9 kB]\n",
            "Hit:5 http://archive.ubuntu.com/ubuntu bionic InRelease\n",
            "Ign:6 https://developer.download.nvidia.com/compute/machine-learning/repos/ubuntu1804/x86_64  InRelease\n",
            "Get:7 https://developer.download.nvidia.com/compute/cuda/repos/ubuntu1804/x86_64  Release [696 B]\n",
            "Hit:8 https://developer.download.nvidia.com/compute/machine-learning/repos/ubuntu1804/x86_64  Release\n",
            "Get:9 https://developer.download.nvidia.com/compute/cuda/repos/ubuntu1804/x86_64  Release.gpg [836 B]\n",
            "Get:10 http://archive.ubuntu.com/ubuntu bionic-updates InRelease [88.7 kB]\n",
            "Hit:11 http://ppa.launchpad.net/cran/libgit2/ubuntu bionic InRelease\n",
            "Get:12 http://archive.ubuntu.com/ubuntu bionic-backports InRelease [74.6 kB]\n",
            "Hit:13 http://ppa.launchpad.net/deadsnakes/ppa/ubuntu bionic InRelease\n",
            "Get:14 http://ppa.launchpad.net/graphics-drivers/ppa/ubuntu bionic InRelease [21.3 kB]\n",
            "Get:16 https://developer.download.nvidia.com/compute/cuda/repos/ubuntu1804/x86_64  Packages [917 kB]\n",
            "Get:17 http://security.ubuntu.com/ubuntu bionic-security/multiverse amd64 Packages [21.1 kB]\n",
            "Get:18 http://security.ubuntu.com/ubuntu bionic-security/main amd64 Packages [2,557 kB]\n",
            "Get:19 http://security.ubuntu.com/ubuntu bionic-security/universe amd64 Packages [1,466 kB]\n",
            "Get:20 http://security.ubuntu.com/ubuntu bionic-security/restricted amd64 Packages [781 kB]\n",
            "Get:21 http://ppa.launchpad.net/c2d4u.team/c2d4u4.0+/ubuntu bionic/main Sources [1,825 kB]\n",
            "Get:22 http://archive.ubuntu.com/ubuntu bionic-updates/universe amd64 Packages [2,244 kB]\n",
            "Get:23 http://ppa.launchpad.net/c2d4u.team/c2d4u4.0+/ubuntu bionic/main amd64 Packages [935 kB]\n",
            "Get:24 http://archive.ubuntu.com/ubuntu bionic-updates/main amd64 Packages [2,995 kB]\n",
            "Get:25 http://archive.ubuntu.com/ubuntu bionic-updates/multiverse amd64 Packages [29.1 kB]\n",
            "Get:26 http://archive.ubuntu.com/ubuntu bionic-updates/restricted amd64 Packages [815 kB]\n",
            "Get:27 http://ppa.launchpad.net/graphics-drivers/ppa/ubuntu bionic/main amd64 Packages [42.8 kB]\n",
            "Fetched 14.9 MB in 7s (2,009 kB/s)\n",
            "Reading package lists... Done\n"
          ]
        }
      ],
      "source": [
        "import os\n",
        "# Find the latest version of spark 3.0 from http://www.apache.org/dist/spark/ and enter as the spark version\n",
        "# For example:\n",
        "# spark_version = 'spark-3.0.3'\n",
        "spark_version = 'spark-3.2.1'\n",
        "os.environ['SPARK_VERSION']=spark_version\n",
        "\n",
        "# Install Spark and Java\n",
        "!apt-get update\n",
        "!apt-get install openjdk-11-jdk-headless -qq > /dev/null\n",
        "!wget -q http://www.apache.org/dist/spark/$SPARK_VERSION/$SPARK_VERSION-bin-hadoop2.7.tgz\n",
        "!tar xf $SPARK_VERSION-bin-hadoop2.7.tgz\n",
        "!pip install -q findspark\n",
        "\n",
        "# Set Environment Variables\n",
        "import os\n",
        "os.environ[\"JAVA_HOME\"] = \"/usr/lib/jvm/java-11-openjdk-amd64\"\n",
        "os.environ[\"SPARK_HOME\"] = f\"/content/{spark_version}-bin-hadoop2.7\"\n",
        "\n",
        "# Start a SparkSession\n",
        "import findspark\n",
        "findspark.init()"
      ]
    },
    {
      "cell_type": "code",
      "source": [
        "# Start Spark session\n",
        "from pyspark.sql import SparkSession\n",
        "spark = SparkSession.builder.appName(\"AmazonVineReview\").getOrCreate()"
      ],
      "metadata": {
        "id": "dXpDxGugz9hH"
      },
      "execution_count": 2,
      "outputs": []
    },
    {
      "cell_type": "code",
      "source": [
        "# Read in data from S3 Buckets\n",
        "from pyspark import SparkFiles\n",
        "url = \"https://s3.amazonaws.com/amazon-reviews-pds/tsv/amazon_reviews_us_Digital_Ebook_Purchase_v1_01.tsv.gz\"\n",
        "spark.sparkContext.addFile(url)\n",
        "df = spark.read.option(\"encoding\", \"UTF-8\").csv(SparkFiles.get(\"\"), sep=\"\\t\", header=True, inferSchema=True)\n",
        "\n",
        "# Show DataFrame\n",
        "# clean and reassign then add again\n",
        "df = df.dropna()\n",
        "df.show()\n",
        "print(df.count())"
      ],
      "metadata": {
        "id": "qNzKSLSA0GhT",
        "colab": {
          "base_uri": "https://localhost:8080/"
        },
        "outputId": "c9361e65-04be-438a-b808-512fa3ba4fa3"
      },
      "execution_count": 41,
      "outputs": [
        {
          "output_type": "stream",
          "name": "stdout",
          "text": [
            "+-----------+-----------+--------------+----------+--------------+--------------------+--------------------+-----------+-------------+-----------+----+-----------------+--------------------+--------------------+-----------+\n",
            "|marketplace|customer_id|     review_id|product_id|product_parent|       product_title|    product_category|star_rating|helpful_votes|total_votes|vine|verified_purchase|     review_headline|         review_body|review_date|\n",
            "+-----------+-----------+--------------+----------+--------------+--------------------+--------------------+-----------+-------------+-----------+----+-----------------+--------------------+--------------------+-----------+\n",
            "|         US|   33605939| RGYFDX8QXKEIR|B007KO2MLO|     328837464|           Big Maria|Digital_Ebook_Pur...|          4|            0|          0|   N|                N|              Quirky|Elmore Leonard me...| 2013-09-09|\n",
            "|         US|   34058393|R13CBGTMNV9R8Z|B005FLODDE|     764276359|The Woman Who Was...|Digital_Ebook_Pur...|          4|            1|          2|   N|                Y|The Woman Who Was...|This book was ver...| 2013-09-09|\n",
            "|         US|   39601147| R7DRFHC0F71O0|B00EA3L35O|     535606445|Mary had A Sleepy...|Digital_Ebook_Pur...|          5|            0|          0|   N|                N|This Sleepy Sheep...|I had the opportu...| 2013-09-09|\n",
            "|         US|   17351407|R27LUKEXU3KBXQ|B00BL3JV50|     240053004|          Starstruck|Digital_Ebook_Pur...|          5|            1|          1|   N|                Y|Steamy and suspen...|What a great read...| 2013-09-09|\n",
            "|         US|   10463387|R1VXTPUYMNU687|B00CXU7U80|     931529805|The Complete Cona...|Digital_Ebook_Pur...|          5|            1|          2|   N|                N|          Barbarians|Barbarians need l...| 2013-09-09|\n",
            "|         US|   50484904|R30DKW1GJWLPZC|B004EWGS5G|     442453110|The Middle Passag...|Digital_Ebook_Pur...|          3|            1|          2|   N|                Y|            Menu....|It was okay obvio...| 2013-09-09|\n",
            "|         US|    7145636|R18DPFG2FALJI9|B00BNRJAT6|     856774152|Hide in Plain Sig...|Digital_Ebook_Pur...|          5|            0|          0|   N|                Y|        Awesome book|Very interesting ...| 2013-09-09|\n",
            "|         US|    6285538|R24D677N5WBW5Q|B007FZOXJM|       5589837|Face of Betrayal ...|Digital_Ebook_Pur...|          5|            0|          0|   N|                Y|    Face of betrayal|Really enjoyed th...| 2013-09-09|\n",
            "|         US|   10278048|R2FCJ9BQLSIOR3|B00B6AK7LU|     362701357|Final Justice (A ...|Digital_Ebook_Pur...|          5|            0|          0|   N|                Y|           Very good|I really liked th...| 2013-09-09|\n",
            "|         US|   16568972|R1R6K4MAKDWTXI|B00EVMMLU0|     342745087|Falling For My Hu...|Digital_Ebook_Pur...|          4|            0|          0|   N|                Y|Ouch! My neck is ...|Reading Callum an...| 2013-09-09|\n",
            "|         US|   26001763|R3R5DILCWM8J7B|B00E4W4984|     186117550|  Forgetting Tabitha|Digital_Ebook_Pur...|          5|            0|          0|   N|                Y|It was a wonderfu...|I really enjoyed ...| 2013-09-09|\n",
            "|         US|   48203259| RR5K72IZOCOFE|B005A1JBB8|     947574172|The Blacksmith's ...|Digital_Ebook_Pur...|          4|            0|          0|   N|                N|       Worth reading|Although not comp...| 2013-09-09|\n",
            "|         US|   45028038|R3K9PJU5GLDY3O|B0044DELIQ|     427899617|Vampire Vacation:...|Digital_Ebook_Pur...|          5|            1|          2|   N|                Y|      Very Good Romp|Enjoyed the chara...| 2013-09-09|\n",
            "|         US|   42554355|R1KTZMCDOJXAEK|B00DJQYATE|     184945574|By the Tail (Coug...|Digital_Ebook_Pur...|          5|            0|          0|   N|                N|    Love this Series|I love the Cougar...| 2013-09-09|\n",
            "|         US|   11251156|R3SBEH4Y3W9W11|B004XFYNNS|     820449163|The Kingdom (A Fa...|Digital_Ebook_Pur...|          5|            0|          0|   N|                Y|    Love this author|I really enjoy Cl...| 2013-09-09|\n",
            "|         US|   44677006|R3GB8WOHSWW2EG|B00A27Z6GO|     969993834|6 Erotic Bedtime ...|Digital_Ebook_Pur...|          3|            0|          0|   N|                Y|    Didn't finish...|I have to admit I...| 2013-09-09|\n",
            "|         US|   34645512| RDM68WMOEDNRJ|B008EGV4BQ|      36906356|The Purpose Drive...|Digital_Ebook_Pur...|          5|            0|          0|   N|                Y|Can't unread it now!|Thanx paster Rick...| 2013-09-09|\n",
            "|         US|   16137650|R3TW70YF2WZK9O|B00655U3WE|     941986263|Insurgent (Diverg...|Digital_Ebook_Pur...|          5|            0|          0|   N|                Y|Great second inst...|As with divergent...| 2013-09-09|\n",
            "|         US|    4514126|R39ESX43X1SA5T|B006NG0GXQ|     402593554|Forever His: A Ti...|Digital_Ebook_Pur...|          1|           36|         47|   N|                Y|   Completely absurd|From the time tha...| 2013-09-09|\n",
            "|         US|   44803855|R3MCA5W3BZ65OU|B008J4RPWA|     804503161|Summerset Abbey: ...|Digital_Ebook_Pur...|          5|            0|          0|   N|                Y|#2, just as good ...|I love the intera...| 2013-09-09|\n",
            "+-----------+-----------+--------------+----------+--------------+--------------------+--------------------+-----------+-------------+-----------+----+-----------------+--------------------+--------------------+-----------+\n",
            "only showing top 20 rows\n",
            "\n",
            "5101476\n"
          ]
        }
      ]
    },
    {
      "cell_type": "code",
      "source": [
        "print(df.count())"
      ],
      "metadata": {
        "colab": {
          "base_uri": "https://localhost:8080/"
        },
        "id": "nE3Xe3t7rvku",
        "outputId": "82e19b7b-e8a4-4a6d-e456-1ff1ae155f7d"
      },
      "execution_count": 42,
      "outputs": [
        {
          "output_type": "stream",
          "name": "stdout",
          "text": [
            "5101476\n"
          ]
        }
      ]
    },
    {
      "cell_type": "code",
      "source": [
        "# Create the vine_table. DataFrame\n",
        "vine_df = df.select([\"review_id\", \"star_rating\", \"helpful_votes\", \"total_votes\", \"vine\", \"verified_purchase\"])\n",
        "vine_df.show()\n"
      ],
      "metadata": {
        "id": "GG06Uz99kV6s",
        "colab": {
          "base_uri": "https://localhost:8080/"
        },
        "outputId": "1bdc236d-2fc1-4b9e-8e6f-4400c5bfb0c7"
      },
      "execution_count": 15,
      "outputs": [
        {
          "output_type": "stream",
          "name": "stdout",
          "text": [
            "+--------------+-----------+-------------+-----------+----+-----------------+\n",
            "|     review_id|star_rating|helpful_votes|total_votes|vine|verified_purchase|\n",
            "+--------------+-----------+-------------+-----------+----+-----------------+\n",
            "| RGYFDX8QXKEIR|          4|            0|          0|   N|                N|\n",
            "|R13CBGTMNV9R8Z|          4|            1|          2|   N|                Y|\n",
            "| R7DRFHC0F71O0|          5|            0|          0|   N|                N|\n",
            "|R27LUKEXU3KBXQ|          5|            1|          1|   N|                Y|\n",
            "|R1VXTPUYMNU687|          5|            1|          2|   N|                N|\n",
            "|R30DKW1GJWLPZC|          3|            1|          2|   N|                Y|\n",
            "|R18DPFG2FALJI9|          5|            0|          0|   N|                Y|\n",
            "|R24D677N5WBW5Q|          5|            0|          0|   N|                Y|\n",
            "|R2FCJ9BQLSIOR3|          5|            0|          0|   N|                Y|\n",
            "|R1R6K4MAKDWTXI|          4|            0|          0|   N|                Y|\n",
            "|R3R5DILCWM8J7B|          5|            0|          0|   N|                Y|\n",
            "| RR5K72IZOCOFE|          4|            0|          0|   N|                N|\n",
            "|R3K9PJU5GLDY3O|          5|            1|          2|   N|                Y|\n",
            "|R1KTZMCDOJXAEK|          5|            0|          0|   N|                N|\n",
            "|R3SBEH4Y3W9W11|          5|            0|          0|   N|                Y|\n",
            "|R3GB8WOHSWW2EG|          3|            0|          0|   N|                Y|\n",
            "| RDM68WMOEDNRJ|          5|            0|          0|   N|                Y|\n",
            "|R3TW70YF2WZK9O|          5|            0|          0|   N|                Y|\n",
            "|R39ESX43X1SA5T|          1|           36|         47|   N|                Y|\n",
            "|R3MCA5W3BZ65OU|          5|            0|          0|   N|                Y|\n",
            "+--------------+-----------+-------------+-----------+----+-----------------+\n",
            "only showing top 20 rows\n",
            "\n"
          ]
        }
      ]
    },
    {
      "cell_type": "code",
      "source": [
        ""
      ],
      "metadata": {
        "id": "kEVmwgkCrt_r"
      },
      "execution_count": null,
      "outputs": []
    },
    {
      "cell_type": "code",
      "source": [
        "# Filter vine_df for total_votes greater than 20\n",
        "from pyspark.sql.functions import col\n",
        "\n",
        "vine_filter1_df = vine_df.filter(col(\"total_votes\") >= 20)\n",
        "vine_filter1_df.show()"
      ],
      "metadata": {
        "id": "NHc33hGikWGc",
        "colab": {
          "base_uri": "https://localhost:8080/"
        },
        "outputId": "b23a78fd-177d-4f18-d556-e33e69656ee5"
      },
      "execution_count": 23,
      "outputs": [
        {
          "output_type": "stream",
          "name": "stdout",
          "text": [
            "+--------------+-----------+-------------+-----------+----+-----------------+\n",
            "|     review_id|star_rating|helpful_votes|total_votes|vine|verified_purchase|\n",
            "+--------------+-----------+-------------+-----------+----+-----------------+\n",
            "|R39ESX43X1SA5T|          1|           36|         47|   N|                Y|\n",
            "|R31QRZ3JAMPBB4|          1|           16|         26|   N|                Y|\n",
            "|R23FKBEXURC3SN|          5|           28|         36|   N|                N|\n",
            "| R4IAIDV5EE84W|          1|            8|         21|   N|                Y|\n",
            "|R26MB2DA7ROT4P|          1|            2|         21|   N|                Y|\n",
            "| RTRVYV0GWUTCK|          5|           18|         25|   N|                Y|\n",
            "|R3QLZAI37SNOOC|          2|           30|         31|   N|                Y|\n",
            "|R1QYZU3RS4CY4F|          5|           66|         76|   N|                N|\n",
            "|R2UR5OLN1BU87J|          2|           21|         23|   N|                Y|\n",
            "| RYBZ6CTBOGI0H|          1|            3|         84|   N|                N|\n",
            "|R38NW44NY19VAZ|          5|           30|         32|   N|                Y|\n",
            "| RLUFKZ223OR3L|          2|           20|         23|   N|                N|\n",
            "|R3H9D0U7BCE6FU|          4|           23|         24|   N|                Y|\n",
            "|R2OG3RELTTD8B3|          4|           70|         73|   N|                N|\n",
            "|R3SERP1OF1G1MH|          2|            3|         20|   N|                Y|\n",
            "| RP3K0YBQIVGXZ|          5|           57|         63|   N|                Y|\n",
            "|R38NKFX8MFXZF8|          1|            2|         21|   N|                Y|\n",
            "|R3JFHXXGSKG1CE|          1|           17|         30|   N|                Y|\n",
            "| RJK1WCZZAQZ8V|          1|           67|         81|   N|                Y|\n",
            "|R1M14DUDPWVLNM|          1|            6|         23|   N|                Y|\n",
            "+--------------+-----------+-------------+-----------+----+-----------------+\n",
            "only showing top 20 rows\n",
            "\n"
          ]
        }
      ]
    },
    {
      "cell_type": "code",
      "source": [
        "# Filter for helpful vote percentage\n",
        "\n",
        "vine_filter2_df = vine_filter1_df.filter((col(\"helpful_votes\")/col(\"total_votes\")) >= 0.5)\n",
        "vine_filter2_df.show()"
      ],
      "metadata": {
        "id": "7eyNRAmlkWP7",
        "colab": {
          "base_uri": "https://localhost:8080/"
        },
        "outputId": "a305bf75-dd94-4514-8c42-2fbd0ea88c1d"
      },
      "execution_count": 18,
      "outputs": [
        {
          "output_type": "stream",
          "name": "stdout",
          "text": [
            "+--------------+-----------+-------------+-----------+----+-----------------+\n",
            "|     review_id|star_rating|helpful_votes|total_votes|vine|verified_purchase|\n",
            "+--------------+-----------+-------------+-----------+----+-----------------+\n",
            "|R39ESX43X1SA5T|          1|           36|         47|   N|                Y|\n",
            "|R31QRZ3JAMPBB4|          1|           16|         26|   N|                Y|\n",
            "|R23FKBEXURC3SN|          5|           28|         36|   N|                N|\n",
            "| RTRVYV0GWUTCK|          5|           18|         25|   N|                Y|\n",
            "|R3QLZAI37SNOOC|          2|           30|         31|   N|                Y|\n",
            "|R1QYZU3RS4CY4F|          5|           66|         76|   N|                N|\n",
            "|R2UR5OLN1BU87J|          2|           21|         23|   N|                Y|\n",
            "|R38NW44NY19VAZ|          5|           30|         32|   N|                Y|\n",
            "| RLUFKZ223OR3L|          2|           20|         23|   N|                N|\n",
            "|R3H9D0U7BCE6FU|          4|           23|         24|   N|                Y|\n",
            "|R2OG3RELTTD8B3|          4|           70|         73|   N|                N|\n",
            "| RP3K0YBQIVGXZ|          5|           57|         63|   N|                Y|\n",
            "|R3JFHXXGSKG1CE|          1|           17|         30|   N|                Y|\n",
            "| RJK1WCZZAQZ8V|          1|           67|         81|   N|                Y|\n",
            "|R3B5SVW0WVUHRB|          5|           23|         23|   N|                Y|\n",
            "|R2KYTL3780UJQP|          1|           50|         78|   N|                Y|\n",
            "|R298OT8VO3655T|          5|           22|         25|   N|                Y|\n",
            "|R22G9KVRZMFBGD|          5|           26|         26|   N|                N|\n",
            "|R2STEO5WQ426BH|          5|           21|         24|   N|                Y|\n",
            "|R28Z87RN6YSF25|          1|           39|         44|   N|                Y|\n",
            "+--------------+-----------+-------------+-----------+----+-----------------+\n",
            "only showing top 20 rows\n",
            "\n"
          ]
        }
      ]
    },
    {
      "cell_type": "code",
      "source": [
        "# Filter to retrieve all the vine yes\n",
        "\n",
        "vine_filteryes_df = vine_filter2_df.filter(col(\"vine\") == \"Y\")\n",
        "vine_filteryes_df.show()"
      ],
      "metadata": {
        "id": "vEfJLj5LkWY_",
        "colab": {
          "base_uri": "https://localhost:8080/"
        },
        "outputId": "e641b2b3-20ef-48ec-d144-f92989abcbf0"
      },
      "execution_count": 26,
      "outputs": [
        {
          "output_type": "stream",
          "name": "stdout",
          "text": [
            "+---------+-----------+-------------+-----------+----+-----------------+\n",
            "|review_id|star_rating|helpful_votes|total_votes|vine|verified_purchase|\n",
            "+---------+-----------+-------------+-----------+----+-----------------+\n",
            "+---------+-----------+-------------+-----------+----+-----------------+\n",
            "\n"
          ]
        }
      ]
    },
    {
      "cell_type": "code",
      "source": [
        "# Filter to retrieve all the vine no\n",
        "\n",
        "vine_filterno_df = vine_filter2_df.filter(col(\"vine\") == \"N\")\n",
        "vine_filterno_df.show()"
      ],
      "metadata": {
        "colab": {
          "base_uri": "https://localhost:8080/"
        },
        "id": "xZymzuYDaIky",
        "outputId": "0a7d35d9-2fe6-474f-edf0-bebcd82f4438"
      },
      "execution_count": 24,
      "outputs": [
        {
          "output_type": "stream",
          "name": "stdout",
          "text": [
            "+--------------+-----------+-------------+-----------+----+-----------------+\n",
            "|     review_id|star_rating|helpful_votes|total_votes|vine|verified_purchase|\n",
            "+--------------+-----------+-------------+-----------+----+-----------------+\n",
            "|R39ESX43X1SA5T|          1|           36|         47|   N|                Y|\n",
            "|R31QRZ3JAMPBB4|          1|           16|         26|   N|                Y|\n",
            "|R23FKBEXURC3SN|          5|           28|         36|   N|                N|\n",
            "| RTRVYV0GWUTCK|          5|           18|         25|   N|                Y|\n",
            "|R3QLZAI37SNOOC|          2|           30|         31|   N|                Y|\n",
            "|R1QYZU3RS4CY4F|          5|           66|         76|   N|                N|\n",
            "|R2UR5OLN1BU87J|          2|           21|         23|   N|                Y|\n",
            "|R38NW44NY19VAZ|          5|           30|         32|   N|                Y|\n",
            "| RLUFKZ223OR3L|          2|           20|         23|   N|                N|\n",
            "|R3H9D0U7BCE6FU|          4|           23|         24|   N|                Y|\n",
            "|R2OG3RELTTD8B3|          4|           70|         73|   N|                N|\n",
            "| RP3K0YBQIVGXZ|          5|           57|         63|   N|                Y|\n",
            "|R3JFHXXGSKG1CE|          1|           17|         30|   N|                Y|\n",
            "| RJK1WCZZAQZ8V|          1|           67|         81|   N|                Y|\n",
            "|R3B5SVW0WVUHRB|          5|           23|         23|   N|                Y|\n",
            "|R2KYTL3780UJQP|          1|           50|         78|   N|                Y|\n",
            "|R298OT8VO3655T|          5|           22|         25|   N|                Y|\n",
            "|R22G9KVRZMFBGD|          5|           26|         26|   N|                N|\n",
            "|R2STEO5WQ426BH|          5|           21|         24|   N|                Y|\n",
            "|R28Z87RN6YSF25|          1|           39|         44|   N|                Y|\n",
            "+--------------+-----------+-------------+-----------+----+-----------------+\n",
            "only showing top 20 rows\n",
            "\n"
          ]
        }
      ]
    },
    {
      "cell_type": "code",
      "source": [
        "# Percentage of 5 star reviews for entire data set for comparison\n",
        "total_review_all = df.count()\n",
        "total_fivestar = (df.filter(col(\"star_rating\") == 5)).count()\n",
        "print(total_fivestar/total_review_all*100)"
      ],
      "metadata": {
        "colab": {
          "base_uri": "https://localhost:8080/"
        },
        "id": "Obvkr-Bnt6gZ",
        "outputId": "d256f421-5d6c-476e-9d00-67eb1e7341f8"
      },
      "execution_count": 44,
      "outputs": [
        {
          "output_type": "stream",
          "name": "stdout",
          "text": [
            "57.87542664123089\n"
          ]
        }
      ]
    },
    {
      "cell_type": "code",
      "source": [
        "# Total number of reviews\n",
        "total_review_count = vine_filter2_df.count()\n",
        "print(total_review_count)"
      ],
      "metadata": {
        "colab": {
          "base_uri": "https://localhost:8080/"
        },
        "id": "t0hxc2R4aIyV",
        "outputId": "d7573fd5-863a-4810-cba6-c6a7127c779e"
      },
      "execution_count": 32,
      "outputs": [
        {
          "output_type": "stream",
          "name": "stdout",
          "text": [
            "65145\n"
          ]
        }
      ]
    },
    {
      "cell_type": "code",
      "source": [
        "# Total number of 5 start reviews for vine reviews\n",
        "vine_5star_df = vine_filter2_df.filter(col(\"star_rating\") == 5)\n",
        "fivestar_count = vine_5star_df.count()\n",
        "percent_fivestar = fivestar_count/total_review_count*100\n",
        "print(percent_fivestar)"
      ],
      "metadata": {
        "colab": {
          "base_uri": "https://localhost:8080/"
        },
        "id": "6ea2SLYZaI8Z",
        "outputId": "07cf614f-82f8-4660-b336-582ac9afbc09"
      },
      "execution_count": 33,
      "outputs": [
        {
          "output_type": "stream",
          "name": "stdout",
          "text": [
            "37.87243840663136\n"
          ]
        }
      ]
    },
    {
      "cell_type": "code",
      "source": [
        "# Percentage of 5-star reviews for paid (Y) vine reviews\n",
        "total_yes = vine_filteryes_df.count()\n",
        "yes_fivestar = (vine_filteryes_df.filter(col(\"star_rating\") == 5)).count()\n",
        "try:\n",
        "  percent_yes = yes_fivestar/total_yes*100\n",
        "  print(percent_yes)\n",
        "except ZeroDivisionError:\n",
        "  print(\"There are no paid vine reviews.\")"
      ],
      "metadata": {
        "colab": {
          "base_uri": "https://localhost:8080/"
        },
        "id": "_mADkqtFlQTc",
        "outputId": "7e1c0157-6a5f-457c-dc41-5780ba0685af"
      },
      "execution_count": 43,
      "outputs": [
        {
          "output_type": "stream",
          "name": "stdout",
          "text": [
            "There are no paid vine reviews.\n"
          ]
        }
      ]
    },
    {
      "cell_type": "code",
      "source": [
        "# Percentage of 5-star reviews for unpaid (N) vine reviews\n",
        "total_no = vine_filterno_df.count()\n",
        "no_fivestar = (vine_filterno_df.filter(col(\"star_rating\") == 5)).count()\n",
        "try:\n",
        "  percent_no = no_fivestar/total_no*100\n",
        "  print(percent_no)\n",
        "except ZeroDivisionError:\n",
        "  print(\"There are no unpaid vine reviews.\")\n"
      ],
      "metadata": {
        "colab": {
          "base_uri": "https://localhost:8080/"
        },
        "id": "nvR1fNNTlQa-",
        "outputId": "4b005bad-8e61-4faa-9d23-f9bf2a134d9d"
      },
      "execution_count": 39,
      "outputs": [
        {
          "output_type": "stream",
          "name": "stdout",
          "text": [
            "37.87243840663136\n"
          ]
        }
      ]
    },
    {
      "cell_type": "code",
      "source": [
        ""
      ],
      "metadata": {
        "id": "vAyBAvIglQiy"
      },
      "execution_count": null,
      "outputs": []
    },
    {
      "cell_type": "code",
      "source": [
        "# Read data in from an S3 link\n",
        "\n",
        "# template_url = \"https://<bucket-name>.s3.amazonaws.com/<folder-name>/<file-name>\"\n",
        "\n",
        "# example_url = \"https://dataviz-curriculum.s3.amazonaws.com/data-folder/data.csv\"\n"
      ],
      "metadata": {
        "id": "mL48XLfqPjPN"
      },
      "execution_count": 5,
      "outputs": []
    }
  ]
}